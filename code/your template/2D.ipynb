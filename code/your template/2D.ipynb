{
  "cells": [
    {
      "cell_type": "markdown",
      "metadata": {},
      "source": [
        "### Imports"
      ]
    },
    {
      "cell_type": "code",
      "execution_count": 1,
      "metadata": {
        "id": "qxpPGWQa_Nl1"
      },
      "outputs": [
        {
          "name": "stderr",
          "output_type": "stream",
          "text": [
            "C:\\Users\\admin\\AppData\\Roaming\\Python\\Python311\\site-packages\\tqdm\\auto.py:21: TqdmWarning: IProgress not found. Please update jupyter and ipywidgets. See https://ipywidgets.readthedocs.io/en/stable/user_install.html\n",
            "  from .autonotebook import tqdm as notebook_tqdm\n"
          ]
        }
      ],
      "source": [
        "import torch\n",
        "import torch.nn as nn\n",
        "import torch.nn.functional as F\n",
        "import numpy as np\n",
        "import math\n",
        "import matplotlib.pyplot as plt\n",
        "from matplotlib.colors import Normalize,PowerNorm\n",
        "import matplotlib.cm as cm\n",
        "from tqdm.auto import tqdm\n",
        "import sys\n",
        "import os \n",
        "import warnings\n",
        "\n",
        "warnings.filterwarnings(\"ignore\")\n"
      ]
    },
    {
      "cell_type": "markdown",
      "metadata": {},
      "source": [
        "### Custom"
      ]
    },
    {
      "cell_type": "code",
      "execution_count": 2,
      "metadata": {},
      "outputs": [],
      "source": [
        "sys.path.append(os.path.abspath('./PINNS/'))\n",
        "sys.path.append(os.path.abspath('./PDE/'))\n",
        "sys.path.append(os.path.abspath('./Losses/'))\n",
        "from Poisson2D import *\n",
        "from PoissonCircLoss import CircLoss\n",
        "from IPINN import IPINN\n",
        "from VDLNet import VDLNet"
      ]
    },
    {
      "cell_type": "code",
      "execution_count": 3,
      "metadata": {
        "colab": {
          "base_uri": "https://localhost:8080/"
        },
        "id": "MdQ3iIb0_Nl5",
        "outputId": "6921b567-35d9-47a9-b1c0-d18ce3c08538"
      },
      "outputs": [
        {
          "data": {
            "text/plain": [
              "device(type='cpu')"
            ]
          },
          "execution_count": 3,
          "metadata": {},
          "output_type": "execute_result"
        }
      ],
      "source": [
        "torch.cuda.empty_cache()\n",
        "device = torch.device(\"cuda:0\" if torch.cuda.is_available() else \"cpu\")\n",
        "device"
      ]
    },
    {
      "cell_type": "markdown",
      "metadata": {},
      "source": [
        "### Plotting Functions"
      ]
    },
    {
      "cell_type": "code",
      "execution_count": 4,
      "metadata": {},
      "outputs": [],
      "source": [
        "def compare_contours(X,Y,exact,result,colormap = 'plasma',levels=10,nrange = (0,1)):\n",
        "    \"\"\"\n",
        "    Produces a contour plot comparing exact and predicted results\n",
        "    X,Y: Axes in form of meshgrids\n",
        "    exact: Analytical Solution\n",
        "    result: PINN solution\n",
        "    It will also return the RMSE and L2 errors \n",
        "    \"\"\"\n",
        "    res = np.sqrt(np.sum(np.square(exact - result)))/np.sqrt(np.sum(np.square(exact)))\n",
        "    rmse = np.sqrt(np.mean(np.square(exact- result)))\n",
        "    err = np.abs(exact - result)\n",
        "    \n",
        "    fig, axes = plt.subplots(1, 3,figsize=(18, 4))\n",
        "    cmap = cm.get_cmap(colormap)\n",
        "    normalizer = Normalize(nrange[0],nrange[1])\n",
        "    im = cm.ScalarMappable(norm = normalizer,cmap = colormap)\n",
        "    fig.colorbar(im, ax=axes.ravel().tolist())\n",
        "\n",
        "    axes[0].contourf(X, Y, result, levels=levels, cmap=colormap,norm = normalizer)\n",
        "    axes[0].set_title('Prediction')\n",
        "\n",
        "    axes[1].contourf(X, Y, exact , levels=levels, cmap=colormap,norm = normalizer)\n",
        "    axes[1].set_title('Actual')\n",
        "    \n",
        "    axes[2].contourf(X, Y, err , levels=levels, cmap=colormap,norm=normalizer)\n",
        "    axes[2].set_title('RMSE:{:.2e}, Rel. L2:{:.2e}'.format(rmse,res))\n",
        "    \n",
        "    plt.show()\n",
        "\n",
        "    res2 = np.sum(err)\n",
        "    print('L1: ',res2)"
      ]
    },
    {
      "cell_type": "code",
      "execution_count": 5,
      "metadata": {},
      "outputs": [],
      "source": [
        "def plot_results3d(X,Y,exact,result,colormap = 'cividis'):\n",
        "    \"\"\"\n",
        "    Produces a surface plot comparing exact,predicted results and error between them\n",
        "    X,Y: Axes in form of meshgrids\n",
        "    exact: Analytical Solution\n",
        "    result: PINN solution\n",
        "    \"\"\"\n",
        "    fig,axes = plt.subplots(1,3,figsize=(18, 4),subplot_kw={'projection': '3d'})\n",
        "    error = exact - result\n",
        "    \n",
        "    axes[0].plot_surface(X, Y, result, cmap=colormap)\n",
        "    axes[0].set_xlabel('x')\n",
        "    axes[0].set_ylabel('y')\n",
        "    axes[0].set_zlabel('u')\n",
        "    axes[0].set_title('Predicted')\n",
        "    \n",
        "    axes[1].plot_surface(X, Y, exact, cmap=colormap)\n",
        "    axes[1].set_xlabel('x')\n",
        "    axes[1].set_ylabel('y')\n",
        "    axes[1].set_zlabel('u')\n",
        "    axes[1].set_title('Analytical Solution')\n",
        "    \n",
        "    axes[2].plot_surface(X, Y, error, cmap=colormap)\n",
        "    axes[2].set_xlabel('x')\n",
        "    axes[2].set_ylabel('y')\n",
        "    axes[2].set_zlabel('Error')\n",
        "    axes[2].set_title('Error')\n",
        "    \n",
        "    plt.show()"
      ]
    },
    {
      "cell_type": "markdown",
      "metadata": {},
      "source": [
        "## Two Dimensional Elliptical Interface Problems"
      ]
    },
    {
      "cell_type": "markdown",
      "metadata": {},
      "source": [
        "### 2. Poisson equation with circular interface\n",
        "\n",
        "- $Ω=[−1,1]×[−1,1]$ with a  interface:\n",
        "- $x(\\theta) = (a+b \\cos (m \\theta)) \\sin (n \\theta) \\cos (\\theta)$\n",
        "- $y(\\theta) = (a+b \\cos (m \\theta)) \\sin (n \\theta) \\sin (\\theta)$\n",
        "- $\\theta$ in $[0,2\\pi]$ $a=b=0.40178$，$m=2$,$n=6$\n",
        "\n",
        "The PDE is:\n",
        "- $-∇⋅(κ_m∇u_m)=f(x)$ in $Ω_m$\n",
        "- $u=g$  on $∂Ω$\n",
        "- $〚u〛=  \\varphi$ on $Γ_{int}$\n",
        "- $〚κ∇u〛⋅\\mathbf{n_2}=\\psi$ on $Γ_{int}$\n",
        "\n",
        "where $∂Ω^d_2=\\{x:x=−1∪x=1∪y=−1∪y=1\\}$ is the external boundary. \n",
        "\n",
        "The coefficients k_m and the solutions u_m:\n",
        "\\begin{equation}\n",
        "k = \\left\\{\n",
        "\\begin{array}{ll}\n",
        "\\frac{x^{2} - y^{2} + 3}{7}, & x \\in \\Omega_{1},\\\\\n",
        "\\frac{2 + xy}{5}, & x \\in \\Omega_{2}, \n",
        "\\end{array}\n",
        "\\right.\n",
        "\\quad\n",
        "u = \\left\\{\n",
        "\\begin{array}{ll}\n",
        "\\sin(x + y) + \\cos(x + y) + 1, & x \\in \\Omega_{1}, \\\\\n",
        "x + y + 1, & x \\in \\Omega_{2}.\n",
        "\\end{array}\n",
        "\\right.\n",
        "\\end{equation}\n",
        "\n"
      ]
    },
    {
      "cell_type": "code",
      "execution_count": 6,
      "metadata": {},
      "outputs": [],
      "source": [
        "#Set the parameters\n",
        "#Get loss function\n",
        "# 定义 K1 和 K2 函数\n",
        "def K1(x, y):\n",
        "    return (x**2-y**2+3)/7\n",
        "\n",
        "def K2(x, y):\n",
        "    return (2+x*y)/5\n",
        "\n",
        "# 创建 CircLoss 类的实例并传入 K1 和 K2 函数\n",
        "ls_circ = CircLoss(n_points=10000, int_pts=300, bound_pts=200, K=[K1, K2])\n",
        "#Get the exact function\n",
        "circ = Poisson2DCirc()"
      ]
    },
    {
      "cell_type": "code",
      "execution_count": 7,
      "metadata": {},
      "outputs": [],
      "source": [
        "h = 0.001\n",
        "x = torch.arange(-1, 1+h, h)\n",
        "y = torch.arange(-1, 1+h, h)\n",
        "X, Y = torch.meshgrid(x, y)\n",
        "XY = torch.stack((X, Y), dim=-1).reshape(-1, 2).to(device)\n",
        "def getResCirc(outputs):\n",
        "    u1,u2 = outputs[0],outputs[1]\n",
        "    result = torch.zeros_like(u1).cpu().numpy().reshape(X.shape)\n",
        "    u1 = u1.cpu().numpy().reshape(X.shape)\n",
        "    u2 = u2.cpu().numpy().reshape(X.shape)\n",
        "    theta = torch.arctan2(Y,X)\n",
        "    theta = torch.where(theta < 0, theta + 2 * torch.pi, theta)  # 将角度调整到[0, 2π]范围内\n",
        "    # 计算每个点对应的花瓣半径\n",
        "    x_petal = (0.40178 + 0.40178 * torch.cos(2 * theta) * torch.sin(6 * theta)) * torch.cos(theta)\n",
        "    y_petal = (0.40178 + 0.40178 * torch.cos(2 * theta) * torch.sin(6 * theta)) * torch.sin(theta)\n",
        "    mask1 = X**2 + Y**2 <x_petal**2 + y_petal**2\n",
        "    mask2 =X**2 + Y**2 >x_petal**2 + y_petal**2\n",
        "    result[mask1] = u1[mask1]\n",
        "    result[mask2] = u2[mask2]\n",
        "        \n",
        "    return result"
      ]
    },
    {
      "cell_type": "markdown",
      "metadata": {},
      "source": [
        "#### IPINN"
      ]
    },
    {
      "cell_type": "code",
      "execution_count": 8,
      "metadata": {},
      "outputs": [],
      "source": [
        "def cond_func2(x,condition):\n",
        "    if(condition == '0'):\n",
        "        return F.silu(x)\n",
        "    elif(condition == '1'):\n",
        "        return F.tanh(x)"
      ]
    },
    {
      "cell_type": "code",
      "execution_count": 9,
      "metadata": {},
      "outputs": [
        {
          "name": "stderr",
          "output_type": "stream",
          "text": [
            "  0%|          | 0/100000 [00:00<?, ?it/s]"
          ]
        },
        {
          "name": "stdout",
          "output_type": "stream",
          "text": [
            "Epoch:  0  Loss:  10.806547\n"
          ]
        },
        {
          "name": "stderr",
          "output_type": "stream",
          "text": [
            "  0%|          | 101/100000 [00:11<2:29:36, 11.13it/s]"
          ]
        },
        {
          "name": "stdout",
          "output_type": "stream",
          "text": [
            "Epoch:  100  Loss:  3.782047\n"
          ]
        },
        {
          "name": "stderr",
          "output_type": "stream",
          "text": [
            "  0%|          | 199/100000 [00:23<2:46:16, 10.00it/s]"
          ]
        },
        {
          "name": "stdout",
          "output_type": "stream",
          "text": [
            "Epoch:  200  Loss:  2.0202239\n"
          ]
        },
        {
          "name": "stderr",
          "output_type": "stream",
          "text": [
            "  0%|          | 263/100000 [00:30<2:03:55, 13.41it/s]"
          ]
        }
      ],
      "source": [
        "#define the model\n",
        "ipinn2 = IPINN(dimension = 2,hidden_size = 10,depth = 3)\n",
        "#Get the loss_function\n",
        "ipinn2.setLoss(lambda x: ls_circ.loss(x,'ipinn',cond_func2))\n",
        "#Train the model\n",
        "ipinn2.train(iterations = 100000)"
      ]
    },
    {
      "cell_type": "code",
      "execution_count": null,
      "metadata": {},
      "outputs": [],
      "source": [
        "activations = [F.silu,F.tanh]\n",
        "#Plot the results\n",
        "outputs = ipinn2.eval(XY,activations)\n",
        "result = getResCirc(outputs)\n",
        "exact_circ = circ.equation(X.cpu(),Y.cpu())\n",
        "compare_contours(X.cpu(),Y.cpu(),exact_circ,result,colormap = 'cividis',levels=10,nrange=(0,2))"
      ]
    },
    {
      "cell_type": "code",
      "execution_count": null,
      "metadata": {},
      "outputs": [],
      "source": [
        "plot_results3d(X.cpu(),Y.cpu(),exact_circ,result)"
      ]
    },
    {
      "cell_type": "code",
      "execution_count": null,
      "metadata": {},
      "outputs": [],
      "source": []
    },
    {
      "cell_type": "markdown",
      "metadata": {},
      "source": [
        "#### XPINN(VDL)"
      ]
    },
    {
      "cell_type": "code",
      "execution_count": null,
      "metadata": {},
      "outputs": [],
      "source": [
        "#define the model\n",
        "activations = [F.tanh,F.tanh,F.tanh]\n",
        "xpinn2 = VDLNet(num_domains = 2,dimension = 2,activations = activations,hidden_size = 10,depth = 3)\n",
        "#Get the loss_function\n",
        "ls_circ.reset()\n",
        "xpinn2.setLoss(lambda x: ls_circ.loss(x,'xpinn',cond_func2))\n",
        "#Train the model\n",
        "xpinn2.train(iterations = 10000)"
      ]
    },
    {
      "cell_type": "code",
      "execution_count": null,
      "metadata": {},
      "outputs": [],
      "source": [
        "#Plot the results\n",
        "outputs = xpinn2.eval(XY)\n",
        "result = getResCirc(outputs)\n",
        "compare_contours(X.cpu(),Y.cpu(),circ.equation(X.cpu(),Y.cpu()),result,colormap = 'plasma',levels=10,nrange=(0,2))"
      ]
    },
    {
      "cell_type": "code",
      "execution_count": null,
      "metadata": {},
      "outputs": [],
      "source": [
        "plot_results3d(X.cpu(),Y.cpu(),exact_circ,result)"
      ]
    },
    {
      "cell_type": "markdown",
      "metadata": {},
      "source": [
        "### Results\n",
        "\n",
        "After running each model for an hour these were the results:\n",
        "\n",
        "1. Poisson with a straight interface\n",
        "\n",
        "Metric|IPINN|XPINN(VDL)\n",
        "---|:---:|:---:\n",
        "RMSE|$2.0 × 10^{-4}$|$3.1× 10^{-1}$  \n",
        "Rel. L2|$2.4 \\times 10^{-4}$|$3.7× 10^{-1}$\n",
        "\n",
        "2. Poisson with a circular interface\n",
        "\n",
        "Metric|IPINN|XPINN(VDL)\n",
        "---|:---:|:---:\n",
        "RMSE|$4.2 × 10^{-3}$|$7.4× 10^{-1}$\n",
        "Rel. L2|$2.9 \\times 10^{-3}$|$5.1× 10^{-1}$\n",
        "\n",
        "All models had hidden layer size of $10$, depth of $3$ and were trained on $10^4$ points\n",
        "\n",
        "IPINN works better in higher dimensions "
      ]
    }
  ],
  "metadata": {
    "accelerator": "GPU",
    "colab": {
      "gpuType": "T4",
      "provenance": []
    },
    "kernelspec": {
      "display_name": "Python 3",
      "name": "python3"
    },
    "language_info": {
      "codemirror_mode": {
        "name": "ipython",
        "version": 3
      },
      "file_extension": ".py",
      "mimetype": "text/x-python",
      "name": "python",
      "nbconvert_exporter": "python",
      "pygments_lexer": "ipython3",
      "version": "3.11.9"
    },
    "widgets": {
      "application/vnd.jupyter.widget-state+json": {
        "21010a540a874ce9abe47a290d508943": {
          "model_module": "@jupyter-widgets/base",
          "model_module_version": "1.2.0",
          "model_name": "LayoutModel",
          "state": {
            "_model_module": "@jupyter-widgets/base",
            "_model_module_version": "1.2.0",
            "_model_name": "LayoutModel",
            "_view_count": null,
            "_view_module": "@jupyter-widgets/base",
            "_view_module_version": "1.2.0",
            "_view_name": "LayoutView",
            "align_content": null,
            "align_items": null,
            "align_self": null,
            "border": null,
            "bottom": null,
            "display": null,
            "flex": null,
            "flex_flow": null,
            "grid_area": null,
            "grid_auto_columns": null,
            "grid_auto_flow": null,
            "grid_auto_rows": null,
            "grid_column": null,
            "grid_gap": null,
            "grid_row": null,
            "grid_template_areas": null,
            "grid_template_columns": null,
            "grid_template_rows": null,
            "height": null,
            "justify_content": null,
            "justify_items": null,
            "left": null,
            "margin": null,
            "max_height": null,
            "max_width": null,
            "min_height": null,
            "min_width": null,
            "object_fit": null,
            "object_position": null,
            "order": null,
            "overflow": null,
            "overflow_x": null,
            "overflow_y": null,
            "padding": null,
            "right": null,
            "top": null,
            "visibility": null,
            "width": null
          }
        },
        "4ca04b6e435f48c7ae678252a9df3317": {
          "model_module": "@jupyter-widgets/controls",
          "model_module_version": "1.5.0",
          "model_name": "HBoxModel",
          "state": {
            "_dom_classes": [],
            "_model_module": "@jupyter-widgets/controls",
            "_model_module_version": "1.5.0",
            "_model_name": "HBoxModel",
            "_view_count": null,
            "_view_module": "@jupyter-widgets/controls",
            "_view_module_version": "1.5.0",
            "_view_name": "HBoxView",
            "box_style": "",
            "children": [
              "IPY_MODEL_5a589c15b7fc4f8dab8ac29e4cda8999",
              "IPY_MODEL_755ea2a4908e454b8eead40345bda74b",
              "IPY_MODEL_c512503928894470b14e80246834270c"
            ],
            "layout": "IPY_MODEL_eb42ccc1e23e48599186b8bbf8100d52"
          }
        },
        "52867330335b42aaa227f1912128f50c": {
          "model_module": "@jupyter-widgets/controls",
          "model_module_version": "1.5.0",
          "model_name": "DescriptionStyleModel",
          "state": {
            "_model_module": "@jupyter-widgets/controls",
            "_model_module_version": "1.5.0",
            "_model_name": "DescriptionStyleModel",
            "_view_count": null,
            "_view_module": "@jupyter-widgets/base",
            "_view_module_version": "1.2.0",
            "_view_name": "StyleView",
            "description_width": ""
          }
        },
        "5a589c15b7fc4f8dab8ac29e4cda8999": {
          "model_module": "@jupyter-widgets/controls",
          "model_module_version": "1.5.0",
          "model_name": "HTMLModel",
          "state": {
            "_dom_classes": [],
            "_model_module": "@jupyter-widgets/controls",
            "_model_module_version": "1.5.0",
            "_model_name": "HTMLModel",
            "_view_count": null,
            "_view_module": "@jupyter-widgets/controls",
            "_view_module_version": "1.5.0",
            "_view_name": "HTMLView",
            "description": "",
            "description_tooltip": null,
            "layout": "IPY_MODEL_606a06587a5c48b2b2243ba5086b8760",
            "placeholder": "​",
            "style": "IPY_MODEL_6a394411bfcd4ba2bb5428ba0eeca2bd",
            "value": "  1%"
          }
        },
        "606a06587a5c48b2b2243ba5086b8760": {
          "model_module": "@jupyter-widgets/base",
          "model_module_version": "1.2.0",
          "model_name": "LayoutModel",
          "state": {
            "_model_module": "@jupyter-widgets/base",
            "_model_module_version": "1.2.0",
            "_model_name": "LayoutModel",
            "_view_count": null,
            "_view_module": "@jupyter-widgets/base",
            "_view_module_version": "1.2.0",
            "_view_name": "LayoutView",
            "align_content": null,
            "align_items": null,
            "align_self": null,
            "border": null,
            "bottom": null,
            "display": null,
            "flex": null,
            "flex_flow": null,
            "grid_area": null,
            "grid_auto_columns": null,
            "grid_auto_flow": null,
            "grid_auto_rows": null,
            "grid_column": null,
            "grid_gap": null,
            "grid_row": null,
            "grid_template_areas": null,
            "grid_template_columns": null,
            "grid_template_rows": null,
            "height": null,
            "justify_content": null,
            "justify_items": null,
            "left": null,
            "margin": null,
            "max_height": null,
            "max_width": null,
            "min_height": null,
            "min_width": null,
            "object_fit": null,
            "object_position": null,
            "order": null,
            "overflow": null,
            "overflow_x": null,
            "overflow_y": null,
            "padding": null,
            "right": null,
            "top": null,
            "visibility": null,
            "width": null
          }
        },
        "6a394411bfcd4ba2bb5428ba0eeca2bd": {
          "model_module": "@jupyter-widgets/controls",
          "model_module_version": "1.5.0",
          "model_name": "DescriptionStyleModel",
          "state": {
            "_model_module": "@jupyter-widgets/controls",
            "_model_module_version": "1.5.0",
            "_model_name": "DescriptionStyleModel",
            "_view_count": null,
            "_view_module": "@jupyter-widgets/base",
            "_view_module_version": "1.2.0",
            "_view_name": "StyleView",
            "description_width": ""
          }
        },
        "6ab1b38385db43c198326c60dff3a58b": {
          "model_module": "@jupyter-widgets/base",
          "model_module_version": "1.2.0",
          "model_name": "LayoutModel",
          "state": {
            "_model_module": "@jupyter-widgets/base",
            "_model_module_version": "1.2.0",
            "_model_name": "LayoutModel",
            "_view_count": null,
            "_view_module": "@jupyter-widgets/base",
            "_view_module_version": "1.2.0",
            "_view_name": "LayoutView",
            "align_content": null,
            "align_items": null,
            "align_self": null,
            "border": null,
            "bottom": null,
            "display": null,
            "flex": null,
            "flex_flow": null,
            "grid_area": null,
            "grid_auto_columns": null,
            "grid_auto_flow": null,
            "grid_auto_rows": null,
            "grid_column": null,
            "grid_gap": null,
            "grid_row": null,
            "grid_template_areas": null,
            "grid_template_columns": null,
            "grid_template_rows": null,
            "height": null,
            "justify_content": null,
            "justify_items": null,
            "left": null,
            "margin": null,
            "max_height": null,
            "max_width": null,
            "min_height": null,
            "min_width": null,
            "object_fit": null,
            "object_position": null,
            "order": null,
            "overflow": null,
            "overflow_x": null,
            "overflow_y": null,
            "padding": null,
            "right": null,
            "top": null,
            "visibility": null,
            "width": null
          }
        },
        "755ea2a4908e454b8eead40345bda74b": {
          "model_module": "@jupyter-widgets/controls",
          "model_module_version": "1.5.0",
          "model_name": "FloatProgressModel",
          "state": {
            "_dom_classes": [],
            "_model_module": "@jupyter-widgets/controls",
            "_model_module_version": "1.5.0",
            "_model_name": "FloatProgressModel",
            "_view_count": null,
            "_view_module": "@jupyter-widgets/controls",
            "_view_module_version": "1.5.0",
            "_view_name": "ProgressView",
            "bar_style": "danger",
            "description": "",
            "description_tooltip": null,
            "layout": "IPY_MODEL_21010a540a874ce9abe47a290d508943",
            "max": 100000,
            "min": 0,
            "orientation": "horizontal",
            "style": "IPY_MODEL_c6dc93fe857448088ee60795542ae028",
            "value": 1100
          }
        },
        "c512503928894470b14e80246834270c": {
          "model_module": "@jupyter-widgets/controls",
          "model_module_version": "1.5.0",
          "model_name": "HTMLModel",
          "state": {
            "_dom_classes": [],
            "_model_module": "@jupyter-widgets/controls",
            "_model_module_version": "1.5.0",
            "_model_name": "HTMLModel",
            "_view_count": null,
            "_view_module": "@jupyter-widgets/controls",
            "_view_module_version": "1.5.0",
            "_view_name": "HTMLView",
            "description": "",
            "description_tooltip": null,
            "layout": "IPY_MODEL_6ab1b38385db43c198326c60dff3a58b",
            "placeholder": "​",
            "style": "IPY_MODEL_52867330335b42aaa227f1912128f50c",
            "value": " 1100/100000 [01:27&lt;1:51:20, 14.80it/s]"
          }
        },
        "c6dc93fe857448088ee60795542ae028": {
          "model_module": "@jupyter-widgets/controls",
          "model_module_version": "1.5.0",
          "model_name": "ProgressStyleModel",
          "state": {
            "_model_module": "@jupyter-widgets/controls",
            "_model_module_version": "1.5.0",
            "_model_name": "ProgressStyleModel",
            "_view_count": null,
            "_view_module": "@jupyter-widgets/base",
            "_view_module_version": "1.2.0",
            "_view_name": "StyleView",
            "bar_color": null,
            "description_width": ""
          }
        },
        "eb42ccc1e23e48599186b8bbf8100d52": {
          "model_module": "@jupyter-widgets/base",
          "model_module_version": "1.2.0",
          "model_name": "LayoutModel",
          "state": {
            "_model_module": "@jupyter-widgets/base",
            "_model_module_version": "1.2.0",
            "_model_name": "LayoutModel",
            "_view_count": null,
            "_view_module": "@jupyter-widgets/base",
            "_view_module_version": "1.2.0",
            "_view_name": "LayoutView",
            "align_content": null,
            "align_items": null,
            "align_self": null,
            "border": null,
            "bottom": null,
            "display": null,
            "flex": null,
            "flex_flow": null,
            "grid_area": null,
            "grid_auto_columns": null,
            "grid_auto_flow": null,
            "grid_auto_rows": null,
            "grid_column": null,
            "grid_gap": null,
            "grid_row": null,
            "grid_template_areas": null,
            "grid_template_columns": null,
            "grid_template_rows": null,
            "height": null,
            "justify_content": null,
            "justify_items": null,
            "left": null,
            "margin": null,
            "max_height": null,
            "max_width": null,
            "min_height": null,
            "min_width": null,
            "object_fit": null,
            "object_position": null,
            "order": null,
            "overflow": null,
            "overflow_x": null,
            "overflow_y": null,
            "padding": null,
            "right": null,
            "top": null,
            "visibility": null,
            "width": null
          }
        }
      }
    }
  },
  "nbformat": 4,
  "nbformat_minor": 0
}
